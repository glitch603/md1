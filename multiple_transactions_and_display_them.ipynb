{
  "nbformat": 4,
  "nbformat_minor": 0,
  "metadata": {
    "colab": {
      "provenance": [],
      "authorship_tag": "ABX9TyMkKu8lCDJOxQfHVEAYOOiW",
      "include_colab_link": true
    },
    "kernelspec": {
      "name": "python3",
      "display_name": "Python 3"
    },
    "language_info": {
      "name": "python"
    }
  },
  "cells": [
    {
      "cell_type": "markdown",
      "metadata": {
        "id": "view-in-github",
        "colab_type": "text"
      },
      "source": [
        "<a href=\"https://colab.research.google.com/github/glitch603/md1/blob/main/multiple_transactions_and_display_them.ipynb\" target=\"_parent\"><img src=\"https://colab.research.google.com/assets/colab-badge.svg\" alt=\"Open In Colab\"/></a>"
      ]
    },
    {
      "cell_type": "code",
      "execution_count": null,
      "metadata": {
        "id": "jygDkuSY9a7t"
      },
      "outputs": [],
      "source": [
        "import hashlib\n",
        "import binascii\n",
        "import datetime\n",
        "import collections\n",
        "\n",
        "from Crypto.PublicKey import RSA\n",
        "from Crypto import Random\n",
        "from Crypto.Cipher import PKCS1_v1_5\n",
        "from collections import OrderedDict\n",
        "import Crypto\n",
        "import Crypto.Random\n",
        "from Crypto.Hash import SHA\n",
        "from Crypto.Signature import PKCS1_v1_5"
      ]
    },
    {
      "cell_type": "code",
      "source": [
        "class Client:\n",
        "    def __init__(self):\n",
        "      random = Random.new().read\n",
        "      self._private_key = RSA.generate(1024, random)\n",
        "      self._public_key = self._private_key.publickey()\n",
        "      self._signer = PKCS1_v1_5.new(self._private_key)\n",
        "    @property\n",
        "    def identity(self):\n",
        "      return binascii.hexlify(self._public_key.exportKey(format='DER')).decode('ascii')\n",
        "\n"
      ],
      "metadata": {
        "id": "QhT3MRfF9b7x"
      },
      "execution_count": null,
      "outputs": []
    },
    {
      "cell_type": "code",
      "source": [
        "class Transaction:\n",
        "    def __init__(self, sender, recipient, value):\n",
        "       self.sender = sender\n",
        "       self.recipient = recipient\n",
        "       self.value = value\n",
        "       self.time = datetime.datetime.now()\n",
        "\n",
        "    def to_dict(self):\n",
        "       if self.sender == \"Genesis\":\n",
        "          identity = \"Genesis\"\n",
        "       else:\n",
        "          identity = self.sender.identity\n",
        "\n",
        "       return collections.OrderedDict({\n",
        "          'sender': identity,\n",
        "          'recipient': self.recipient,\n",
        "          'value': self.value,\n",
        "          'time' : self.time})\n",
        "\n",
        "    def sign_transaction(self):\n",
        "       private_key = self.sender._private_key\n",
        "       signer = PKCS1_v1_5.new(private_key)\n",
        "       h = SHA.new(str(self.to_dict()).encode('utf8'))\n",
        "       return binascii.hexlify(signer.sign(h)).decode('ascii')\n",
        "\n"
      ],
      "metadata": {
        "id": "9LBtgeQd9gbR"
      },
      "execution_count": null,
      "outputs": []
    },
    {
      "cell_type": "code",
      "source": [
        "def display_transaction(transaction):\n",
        "       #for transaction in transactions:\n",
        "       dict = transaction.to_dict()\n",
        "       print (\"sender: \" + dict['sender'])\n",
        "       print ('-----')\n",
        "       print (\"recipient: \" + dict['recipient'])\n",
        "       print ('-----')\n",
        "       print (\"value: \" + str(dict['value']))\n",
        "       print ('-----')\n",
        "       print (\"time: \" + str(dict['time']))\n",
        "       print ('-----')\n",
        "\n",
        "transactions = []\n",
        "\n",
        "A = Client()\n",
        "B = Client()\n",
        "t1 = Transaction(\n",
        "   A,\n",
        "   B.identity,\n",
        "   15.0\n",
        ")\n",
        "t1.sign_transaction()\n",
        "display_transaction (t1)"
      ],
      "metadata": {
        "id": "KwiMAt559iLJ"
      },
      "execution_count": null,
      "outputs": []
    }
  ]
}