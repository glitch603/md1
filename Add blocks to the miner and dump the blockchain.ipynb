{
  "nbformat": 4,
  "nbformat_minor": 0,
  "metadata": {
    "colab": {
      "provenance": [],
      "authorship_tag": "ABX9TyM5we71x0In5v98df87e5an",
      "include_colab_link": true
    },
    "kernelspec": {
      "name": "python3",
      "display_name": "Python 3"
    },
    "language_info": {
      "name": "python"
    }
  },
  "cells": [
    {
      "cell_type": "markdown",
      "metadata": {
        "id": "view-in-github",
        "colab_type": "text"
      },
      "source": [
        "<a href=\"https://colab.research.google.com/github/glitch603/md1/blob/main/Add%20blocks%20to%20the%20miner%20and%20dump%20the%20blockchain.ipynb\" target=\"_parent\"><img src=\"https://colab.research.google.com/assets/colab-badge.svg\" alt=\"Open In Colab\"/></a>"
      ]
    },
    {
      "cell_type": "code",
      "execution_count": null,
      "metadata": {
        "id": "RgTxXWnKIMsT"
      },
      "outputs": [],
      "source": [
        "!pip3 install pycryptodome\n",
        "import hashlib\n",
        "import random\n",
        "import binascii\n",
        "import datetime\n",
        "import collections\n",
        "\n",
        "from Crypto.PublicKey import RSA\n",
        "from Crypto import Random\n",
        "from Crypto.Cipher import PKCS1_v1_5\n",
        "from collections import OrderedDict\n",
        "import Crypto\n",
        "import Crypto.Random\n",
        "from Crypto.Hash import SHA\n",
        "from Crypto.Signature import PKCS1_v1_5\n",
        "\n",
        "\n"
      ]
    },
    {
      "cell_type": "code",
      "source": [
        "class Client:\n",
        "    def __init__(self):\n",
        "      random = Random.new().read\n",
        "      self._private_key = RSA.generate(1024, random)\n",
        "      self._public_key = self._private_key.publickey()\n",
        "      self._signer = PKCS1_v1_5.new(self._private_key)\n",
        "    @property\n",
        "    def identity(self):\n",
        "      return binascii.hexlify(self._public_key.exportKey(format='DER')).decode('ascii')\n",
        "\n",
        "class Transaction:\n",
        "    def __init__(self, sender, recipient, value):\n",
        "       self.sender = sender\n",
        "       self.recipient = recipient\n",
        "       self.value = value\n",
        "       self.time = datetime.datetime.now()\n",
        "\n",
        "    def to_dict(self):\n",
        "       if self.sender == \"Genesis\":\n",
        "          identity = \"Genesis\"\n",
        "       else:\n",
        "          identity = self.sender.identity\n",
        "\n",
        "       return collections.OrderedDict({\n",
        "          'sender': identity,\n",
        "          'recipient': self.recipient,\n",
        "          'value': self.value,\n",
        "          'time' : self.time})\n",
        "\n",
        "    def sign_transaction(self):\n",
        "       private_key = self.sender._private_key\n",
        "       signer = PKCS1_v1_5.new(private_key)\n",
        "       h = SHA.new(str(self.to_dict()).encode('utf8'))\n",
        "       return binascii.hexlify(signer.sign(h)).decode('ascii')\n",
        "\n"
      ],
      "metadata": {
        "id": "olZod3h2IhAm"
      },
      "execution_count": null,
      "outputs": []
    },
    {
      "cell_type": "code",
      "source": [
        "def display_transaction(transaction):\n",
        "       #for transaction in transactions:\n",
        "       dict = transaction.to_dict()\n",
        "       print (\"sender: \" + dict['sender'])\n",
        "       print ('-----')\n",
        "       print (\"recipient: \" + dict['recipient'])\n",
        "       print ('-----')\n",
        "       print (\"value: \" + str(dict['value']))\n",
        "       print ('-----')\n",
        "       print (\"time: \" + str(dict['time']))\n",
        "       print ('-----')\n",
        "\n",
        "def dump_blockchain (self):\n",
        "   print (\"Number of blocks in the chain: \" + str(len (self)))\n",
        "   for x in range (len(TPCoins)):\n",
        "      block_temp = TPCoins[x]\n",
        "      print (\"block # \" + str(x))\n",
        "      for transaction in block_temp.verified_transactions:\n",
        "         display_transaction (transaction)\n",
        "         print ('--------------')\n",
        "      print ('=====================================')\n",
        "\n"
      ],
      "metadata": {
        "id": "_BDY36EJAVLK"
      },
      "execution_count": null,
      "outputs": []
    },
    {
      "cell_type": "code",
      "source": [
        "class Block:\n",
        "   def __init__(self):\n",
        "      self.verified_transactions = []\n",
        "      self.previous_block_hash = \"\"\n",
        "      self.Nonce = \"\"\n",
        "\n",
        "def sha256(message):\n",
        "      return hashlib.sha256(message.encode('ascii')).hexdigest()\n",
        "\n"
      ],
      "metadata": {
        "id": "Ehm8vBpxAX0C"
      },
      "execution_count": null,
      "outputs": []
    },
    {
      "cell_type": "code",
      "source": [
        "def mine(message, difficulty=1):\n",
        "   assert difficulty >= 1\n",
        "   #if(difficulty <1):\n",
        "   #        return\n",
        "   #'1'*3=> '111'\n",
        "   prefix = '1' * difficulty\n",
        "   for i in range(1000):\n",
        "      digest = sha256(str(hash(message)) + str(i))\n",
        "      if digest.startswith(prefix):\n",
        "         return i #i= nonce value\n",
        "\n",
        "A = Client()\n",
        "B =Client()\n",
        "C =Client()\n",
        "t0 = Transaction (\n",
        "   \"Genesis\",\n",
        "   A.identity,\n",
        "   500.0\n",
        ")\n",
        "\n",
        "t1 = Transaction (\n",
        "   A,\n",
        "   B.identity,\n",
        "   40.0\n",
        ")\n",
        "t2 = Transaction (\n",
        "   A,\n",
        "   C.identity,\n",
        "   70.0\n",
        ")\n",
        "t3 = Transaction (\n",
        "   B,\n",
        "   C.identity,\n",
        "   700.0\n",
        ")\n",
        "#blockchain\n",
        "TPCoins = []\n",
        "\n",
        "block0 = Block()\n",
        "block0.previous_block_hash = None\n",
        "Nonce = None\n",
        "block0.verified_transactions.append (t0)\n",
        "digest = hash (block0)\n",
        "last_block_hash = digest #last_block_hash it is hash of block0\n",
        "TPCoins.append (block0)\n",
        "\n",
        "block1 = Block()\n",
        "block1.previous_block_hash = last_block_hash\n",
        "block1.verified_transactions.append (t1)\n",
        "block1.verified_transactions.append (t2)\n",
        "block1.Nonce=mine (block1, 2)\n",
        "digest = hash (block1)\n",
        "last_block_hash = digest\n",
        "TPCoins.append (block1)\n",
        "\n",
        "block2 = Block()\n",
        "block2.previous_block_hash = last_block_hash\n",
        "block2.verified_transactions.append (t3)\n",
        "Nonce = mine (block2, 2)\n",
        "block2.Nonce=mine (block2, 2)\n",
        "digest = hash (block2)\n",
        "last_block_hash = digest\n",
        "TPCoins.append (block2)\n",
        "\n",
        "dump_blockchain(TPCoins)"
      ],
      "metadata": {
        "id": "QDmLm_-zAaKy"
      },
      "execution_count": null,
      "outputs": []
    }
  ]
}