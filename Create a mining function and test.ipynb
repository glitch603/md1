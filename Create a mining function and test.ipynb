{
  "nbformat": 4,
  "nbformat_minor": 0,
  "metadata": {
    "colab": {
      "provenance": [],
      "authorship_tag": "ABX9TyMAR4U7Rzta58UJ7kGGqD3J",
      "include_colab_link": true
    },
    "kernelspec": {
      "name": "python3",
      "display_name": "Python 3"
    },
    "language_info": {
      "name": "python"
    }
  },
  "cells": [
    {
      "cell_type": "markdown",
      "metadata": {
        "id": "view-in-github",
        "colab_type": "text"
      },
      "source": [
        "<a href=\"https://colab.research.google.com/github/glitch603/md1/blob/main/Create%20a%20mining%20function%20and%20test.ipynb\" target=\"_parent\"><img src=\"https://colab.research.google.com/assets/colab-badge.svg\" alt=\"Open In Colab\"/></a>"
      ]
    },
    {
      "cell_type": "code",
      "execution_count": null,
      "metadata": {
        "id": "EYm4OTB5H1jx"
      },
      "outputs": [],
      "source": [
        "import hashlib\n",
        "\n",
        "def sha256(message):\n",
        "      return hashlib.sha256(message.encode('ascii')).hexdigest()\n",
        "\n",
        "def mine(message, difficulty=1):\n",
        "   assert difficulty >= 1\n",
        "   #if(difficulty <1):\n",
        "   #        return\n",
        "   #'1'*2=> '11'\n",
        "   prefix = '1' * difficulty\n",
        "   print(\"prefix\",prefix)\n",
        "   for i in range(1000):\n",
        "      digest = sha256(str(hash(message)) + str(i))\n",
        "      print(\"testing=>\"+digest)\n",
        "      if digest.startswith(prefix):\n",
        "         print (\"after \" + str(i) + \" iterations found nonce: \"+ digest)\n",
        "         return i #i= nonce value\n",
        "\n",
        "mine (\"test message\",2)\n"
      ]
    }
  ]
}