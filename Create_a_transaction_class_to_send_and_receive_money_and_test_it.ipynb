{
  "nbformat": 4,
  "nbformat_minor": 0,
  "metadata": {
    "colab": {
      "provenance": [],
      "authorship_tag": "ABX9TyOQMkzYrSroHndSLDuTYRtf",
      "include_colab_link": true
    },
    "kernelspec": {
      "name": "python3",
      "display_name": "Python 3"
    },
    "language_info": {
      "name": "python"
    }
  },
  "cells": [
    {
      "cell_type": "markdown",
      "metadata": {
        "id": "view-in-github",
        "colab_type": "text"
      },
      "source": [
        "<a href=\"https://colab.research.google.com/github/glitch603/md1/blob/main/Create_a_transaction_class_to_send_and_receive_money_and_test_it.ipynb\" target=\"_parent\"><img src=\"https://colab.research.google.com/assets/colab-badge.svg\" alt=\"Open In Colab\"/></a>"
      ]
    },
    {
      "cell_type": "code",
      "execution_count": null,
      "metadata": {
        "id": "Mf_MadK69Amv"
      },
      "outputs": [],
      "source": [
        "import hashlib\n",
        "import binascii\n",
        "import datetime\n",
        "import collections\n",
        "\n"
      ]
    },
    {
      "cell_type": "code",
      "source": [
        "from Crypto.PublicKey import RSA\n",
        "from Crypto import Random\n",
        "from Crypto.Cipher import PKCS1_v1_5\n",
        "from collections import OrderedDict\n",
        "import Crypto\n",
        "import Crypto.Random\n",
        "from Crypto.Hash import SHA\n",
        "from Crypto.Signature import PKCS1_v1_5\n"
      ],
      "metadata": {
        "id": "VLebxZw99Fv7"
      },
      "execution_count": null,
      "outputs": []
    },
    {
      "cell_type": "code",
      "source": [
        "class Client:\n",
        "    def __init__(self):\n",
        "      random = Random.new().read\n",
        "      self._private_key = RSA.generate(1024, random)\n",
        "      self._public_key = self._private_key.publickey()\n",
        "      self._signer = PKCS1_v1_5.new(self._private_key)\n",
        "    @property\n",
        "    def identity(self):\n",
        "      return binascii.hexlify(self._public_key.exportKey(format='DER')).decode('ascii')\n",
        "\n"
      ],
      "metadata": {
        "id": "n7UvYO-T9Imh"
      },
      "execution_count": null,
      "outputs": []
    },
    {
      "cell_type": "code",
      "source": [
        "class Transaction:\n",
        "    def __init__(self, sender, recipient, value):\n",
        "       self.sender = sender\n",
        "       self.recipient = recipient\n",
        "       self.value = value\n",
        "       self.time = datetime.datetime.now()\n",
        "\n",
        "    def to_dict(self):\n",
        "       if self.sender == \"Genesis\":\n",
        "          identity = \"Genesis\"\n",
        "       else:\n",
        "          identity = self.sender.identity\n",
        "\n",
        "       return collections.OrderedDict({\n",
        "          'sender': identity,\n",
        "          'recipient': self.recipient,\n",
        "          'value': self.value,\n",
        "          'time' : self.time})\n",
        "\n",
        "    def sign_transaction(self):\n",
        "       private_key = self.sender._private_key\n",
        "       signer = PKCS1_v1_5.new(private_key)\n",
        "       h = SHA.new(str(self.to_dict()).encode('utf8'))\n",
        "       return binascii.hexlify(signer.sign(h)).decode('ascii')\n",
        "\n"
      ],
      "metadata": {
        "id": "4-aeUtCc9LXB"
      },
      "execution_count": null,
      "outputs": []
    },
    {
      "cell_type": "code",
      "source": [
        "def display_transaction(transaction):\n",
        "       #for transaction in transactions:\n",
        "       dict = transaction.to_dict()\n",
        "       print (\"sender: \" + dict['sender'])\n",
        "       print ('-----')\n",
        "       print (\"recipient: \" + dict['recipient'])\n",
        "       print ('-----')\n",
        "       print (\"value: \" + str(dict['value']))\n",
        "       print ('-----')\n",
        "       print (\"time: \" + str(dict['time']))\n",
        "       print ('-----')\n",
        "\n",
        "transactions = []\n",
        "\n",
        "Dinesh = Client()\n",
        "Ramesh = Client()\n",
        "Suresh = Client()\n",
        "\n",
        "t1 = Transaction(\n",
        "   Dinesh,\n",
        "   Ramesh.identity,\n",
        "   15.0\n",
        ")\n",
        "\n",
        "t1.sign_transaction()\n",
        "transactions.append(t1)\n",
        "\n",
        "t2 = Transaction(\n",
        "   Ramesh,\n",
        "   Suresh.identity,\n",
        "   25.0\n",
        ")\n",
        "t2.sign_transaction()\n",
        "transactions.append(t2)\n",
        "\n",
        "t3 = Transaction(\n",
        "   Ramesh,\n",
        "   Suresh.identity,\n",
        "   200.0\n",
        ")\n",
        "t3.sign_transaction()\n",
        "transactions.append(t3)\n"
      ],
      "metadata": {
        "id": "pZTgvIVy9OUI"
      },
      "execution_count": null,
      "outputs": []
    },
    {
      "cell_type": "code",
      "source": [
        "\n",
        "tn=1\n",
        "for t in transactions:\n",
        "   print(\"Transaction #\",tn)\n",
        "   display_transaction (t)\n",
        "   tn=tn+1\n",
        "   print ('--------------')"
      ],
      "metadata": {
        "id": "e6LmEk3H9QNR"
      },
      "execution_count": null,
      "outputs": []
    }
  ]
}