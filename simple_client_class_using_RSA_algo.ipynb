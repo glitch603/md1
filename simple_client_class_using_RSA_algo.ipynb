{
  "nbformat": 4,
  "nbformat_minor": 0,
  "metadata": {
    "colab": {
      "provenance": [],
      "authorship_tag": "ABX9TyOs6GoSQEnHQTWPaxg7yY7h",
      "include_colab_link": true
    },
    "kernelspec": {
      "name": "python3",
      "display_name": "Python 3"
    },
    "language_info": {
      "name": "python"
    }
  },
  "cells": [
    {
      "cell_type": "markdown",
      "metadata": {
        "id": "view-in-github",
        "colab_type": "text"
      },
      "source": [
        "<a href=\"https://colab.research.google.com/github/glitch603/md1/blob/main/simple_client_class_using_RSA_algo.ipynb\" target=\"_parent\"><img src=\"https://colab.research.google.com/assets/colab-badge.svg\" alt=\"Open In Colab\"/></a>"
      ]
    },
    {
      "cell_type": "code",
      "execution_count": null,
      "metadata": {
        "id": "uVmJjyoiBoxJ"
      },
      "outputs": [],
      "source": [
        "!pip3 install Crypto\n",
        "!pip3 install pycrypto\n",
        "!pip install pycryptodome\n"
      ]
    },
    {
      "cell_type": "code",
      "source": [
        "import hashlib\n",
        "import random\n",
        "import binascii\n",
        "import datetime\n",
        "import collections\n",
        "from Crypto.PublicKey import RSA\n",
        "from Crypto import Random\n",
        "from Crypto.Cipher import PKCS1_v1_5\n"
      ],
      "metadata": {
        "id": "KlCj6wKXCiwn"
      },
      "execution_count": null,
      "outputs": []
    },
    {
      "cell_type": "code",
      "source": [
        "class Client:\n",
        "   def __init__(self):\n",
        "\n",
        "      random = Random.new().read\n",
        "      self._private_key = RSA.generate(1024, random)\n",
        "      self._public_key = self._private_key.publickey()\n",
        "      self._signer = PKCS1_v1_5.new(self._private_key)\n",
        "   @property\n",
        "   def identity(self):\n",
        "      return binascii.hexlify(self._public_key.exportKey(format='DER')).decode('ascii')\n",
        "\n",
        "Dinesh = Client()\n",
        "print (\"sender \",Dinesh.identity)\n"
      ],
      "metadata": {
        "id": "z7irP34dDG-H"
      },
      "execution_count": null,
      "outputs": []
    },
    {
      "cell_type": "markdown",
      "source": [
        "multiple transactions and display them\n"
      ],
      "metadata": {
        "id": "J-0UaRDg65dI"
      }
    },
    {
      "cell_type": "code",
      "source": [
        "import hashlib\n",
        "import binascii\n",
        "import datetime\n",
        "import collections\n",
        "\n",
        "from Crypto.PublicKey import RSA\n",
        "from Crypto import Random\n",
        "from Crypto.Cipher import PKCS1_v1_5\n",
        "from collections import OrderedDict\n",
        "import Crypto\n",
        "import Crypto.Random\n",
        "from Crypto.Hash import SHA\n",
        "from Crypto.Signature import PKCS1_v1_5\n"
      ],
      "metadata": {
        "id": "ugnTafk2D2y2"
      },
      "execution_count": null,
      "outputs": []
    },
    {
      "cell_type": "code",
      "source": [
        "class Client:\n",
        "    def __init__(self):\n",
        "      random = Random.new().read\n",
        "      self._private_key = RSA.generate(1024, random)\n",
        "      self._public_key = self._private_key.publickey()\n",
        "      self._signer = PKCS1_v1_5.new(self._private_key)\n",
        "    @property\n",
        "    def identity(self):\n",
        "      return binascii.hexlify(self._public_key.exportKey(format='DER')).decode('ascii')\n",
        "\n",
        "class Transaction:\n",
        "    def __init__(self, sender, recipient, value):\n",
        "       self.sender = sender\n",
        "       self.recipient = recipient\n",
        "       self.value = value\n",
        "       self.time = datetime.datetime.now()\n",
        "\n",
        "    def to_dict(self):\n",
        "       if self.sender == \"Genesis\":\n",
        "          identity = \"Genesis\"\n",
        "       else:\n",
        "          identity = self.sender.identity\n",
        "\n",
        "       return collections.OrderedDict({\n",
        "          'sender': identity,\n",
        "          'recipient': self.recipient,\n",
        "          'value': self.value,\n",
        "          'time' : self.time})\n",
        "\n",
        "    def sign_transaction(self):\n",
        "       private_key = self.sender._private_key\n",
        "       signer = PKCS1_v1_5.new(private_key)\n",
        "       h = SHA.new(str(self.to_dict()).encode('utf8'))\n",
        "       return binascii.hexlify(signer.sign(h)).decode('ascii')\n",
        "\n",
        "def display_transaction(transaction):\n",
        "       #for transaction in transactions:\n",
        "       dict = transaction.to_dict()\n",
        "       print (\"sender: \" + dict['sender'])\n",
        "       print ('-----')\n",
        "       print (\"recipient: \" + dict['recipient'])\n",
        "       print ('-----')\n",
        "       print (\"value: \" + str(dict['value']))\n",
        "       print ('-----')\n",
        "       print (\"time: \" + str(dict['time']))\n",
        "       print ('-----')\n",
        "\n",
        "transactions = []\n",
        "\n",
        "A = Client()\n",
        "B = Client()\n",
        "t1 = Transaction(\n",
        "   A,\n",
        "   B.identity,\n",
        "   15.0\n",
        ")\n",
        "t1.sign_transaction()\n",
        "display_transaction (t1)\n"
      ],
      "metadata": {
        "id": "xKWJEg6kD4z2"
      },
      "execution_count": null,
      "outputs": []
    },
    {
      "cell_type": "markdown",
      "source": [
        "Create a transaction class to send and receive money and test it"
      ],
      "metadata": {
        "id": "IRSWGOUO7FQn"
      }
    },
    {
      "cell_type": "code",
      "source": [
        "import hashlib\n",
        "import binascii\n",
        "import datetime\n",
        "import collections\n",
        "\n",
        "from Crypto.PublicKey import RSA\n",
        "from Crypto import Random\n",
        "from Crypto.Cipher import PKCS1_v1_5\n",
        "from collections import OrderedDict\n",
        "import Crypto\n",
        "import Crypto.Random\n",
        "from Crypto.Hash import SHA\n",
        "from Crypto.Signature import PKCS1_v1_5\n",
        "class Client:\n",
        "    def __init__(self):\n",
        "      random = Random.new().read\n",
        "      self._private_key = RSA.generate(1024, random)\n",
        "      self._public_key = self._private_key.publickey()\n",
        "      self._signer = PKCS1_v1_5.new(self._private_key)\n",
        "    @property\n",
        "    def identity(self):\n",
        "      return binascii.hexlify(self._public_key.exportKey(format='DER')).decode('ascii')\n",
        "\n",
        "class Transaction:\n",
        "    def __init__(self, sender, recipient, value):\n",
        "       self.sender = sender\n",
        "       self.recipient = recipient\n",
        "       self.value = value\n",
        "       self.time = datetime.datetime.now()\n",
        "\n",
        "    def to_dict(self):\n",
        "       if self.sender == \"Genesis\":\n",
        "          identity = \"Genesis\"\n",
        "       else:\n",
        "          identity = self.sender.identity\n",
        "\n",
        "       return collections.OrderedDict({\n",
        "          'sender': identity,\n",
        "          'recipient': self.recipient,\n",
        "          'value': self.value,\n",
        "          'time' : self.time})\n",
        "\n",
        "    def sign_transaction(self):\n",
        "       private_key = self.sender._private_key\n",
        "       signer = PKCS1_v1_5.new(private_key)\n",
        "       h = SHA.new(str(self.to_dict()).encode('utf8'))\n",
        "       return binascii.hexlify(signer.sign(h)).decode('ascii')\n",
        "\n",
        "def display_transaction(transaction):\n",
        "       #for transaction in transactions:\n",
        "       dict = transaction.to_dict()\n",
        "       print (\"sender: \" + dict['sender'])\n",
        "       print ('-----')\n",
        "       print (\"recipient: \" + dict['recipient'])\n",
        "       print ('-----')\n",
        "       print (\"value: \" + str(dict['value']))\n",
        "       print ('-----')\n",
        "       print (\"time: \" + str(dict['time']))\n",
        "       print ('-----')\n",
        "\n",
        "transactions = []\n",
        "\n",
        "Dinesh = Client()\n",
        "Ramesh = Client()\n",
        "Suresh = Client()\n",
        "\n",
        "t1 = Transaction(\n",
        "   Dinesh,\n",
        "   Ramesh.identity,\n",
        "   15.0\n",
        ")\n",
        "\n",
        "t1.sign_transaction()\n",
        "transactions.append(t1)\n",
        "\n",
        "t2 = Transaction(\n",
        "   Ramesh,\n",
        "   Suresh.identity,\n",
        "   25.0\n",
        ")\n",
        "t2.sign_transaction()\n",
        "transactions.append(t2)\n",
        "\n",
        "t3 = Transaction(\n",
        "   Ramesh,\n",
        "   Suresh.identity,\n",
        "   200.0\n",
        ")\n",
        "t3.sign_transaction()\n",
        "transactions.append(t3)\n",
        "\n",
        "tn=1\n",
        "for t in transactions:\n",
        "   print(\"Transaction #\",tn)\n",
        "   display_transaction (t)\n",
        "   tn=tn+1\n",
        "   print ('--------------')\n"
      ],
      "metadata": {
        "colab": {
          "base_uri": "https://localhost:8080/"
        },
        "id": "PrwCuEx-EBMk",
        "outputId": "d43e69e7-8133-4d63-d3a7-2912dd3963e1"
      },
      "execution_count": null,
      "outputs": [
        {
          "output_type": "stream",
          "name": "stdout",
          "text": [
            "Transaction # 1\n",
            "sender: 30819f300d06092a864886f70d010101050003818d0030818902818100cbd04c6afa835e662ed8171d770e85378d0b5274256f414b05f9aff00398d8e9328ac5d8349755cb5852c84093f351d31a045a3a56e8b09aedcc58e4c3c57c6b0b5d9f62c9e9404fd2266403929756278db5421d8d7aedd51c6559e39777b1503e0b00cb159194b14176e6da7136672e2ddd71808d3078cd0d24ae3d4dc81abd0203010001\n",
            "-----\n",
            "recipient: 30819f300d06092a864886f70d010101050003818d0030818902818100999620a931403af3288b862e4c75c6950e0158ef1af0ac32def9e65d6fad7d657a3bbab2bc22cb58e3aca518e40c9bfd82658dcdbd964e44bc0762ed6b95e2b2dc7142032f8ead382f0bbfd2f4ad6b926e0d17daea06e61181d4cb57a5dd6dba1ab6186a8927fde8deec4cd9af82821d2ffb5403c75ebbf2520630bbdc74feaf0203010001\n",
            "-----\n",
            "value: 15.0\n",
            "-----\n",
            "time: 2024-03-31 05:59:49.976617\n",
            "-----\n",
            "--------------\n",
            "Transaction # 2\n",
            "sender: 30819f300d06092a864886f70d010101050003818d0030818902818100999620a931403af3288b862e4c75c6950e0158ef1af0ac32def9e65d6fad7d657a3bbab2bc22cb58e3aca518e40c9bfd82658dcdbd964e44bc0762ed6b95e2b2dc7142032f8ead382f0bbfd2f4ad6b926e0d17daea06e61181d4cb57a5dd6dba1ab6186a8927fde8deec4cd9af82821d2ffb5403c75ebbf2520630bbdc74feaf0203010001\n",
            "-----\n",
            "recipient: 30819f300d06092a864886f70d010101050003818d0030818902818100b9180c0f369811885036c2e9638550d8e3053fb1cb044b6334837ea36169ab5bf21e9977656a4f0e85973e00b42c2cbe1aaaeac01e04ea59393d83d62c3ce3ba2859a03c1691c56ba7ea14a37972ac282d922d81e4dab0cf63da54890df1fa554664984890e587fcc152a44ade98185f61feaaacf140d9c80acf039018089ddd0203010001\n",
            "-----\n",
            "value: 25.0\n",
            "-----\n",
            "time: 2024-03-31 05:59:49.979211\n",
            "-----\n",
            "--------------\n",
            "Transaction # 3\n",
            "sender: 30819f300d06092a864886f70d010101050003818d0030818902818100999620a931403af3288b862e4c75c6950e0158ef1af0ac32def9e65d6fad7d657a3bbab2bc22cb58e3aca518e40c9bfd82658dcdbd964e44bc0762ed6b95e2b2dc7142032f8ead382f0bbfd2f4ad6b926e0d17daea06e61181d4cb57a5dd6dba1ab6186a8927fde8deec4cd9af82821d2ffb5403c75ebbf2520630bbdc74feaf0203010001\n",
            "-----\n",
            "recipient: 30819f300d06092a864886f70d010101050003818d0030818902818100b9180c0f369811885036c2e9638550d8e3053fb1cb044b6334837ea36169ab5bf21e9977656a4f0e85973e00b42c2cbe1aaaeac01e04ea59393d83d62c3ce3ba2859a03c1691c56ba7ea14a37972ac282d922d81e4dab0cf63da54890df1fa554664984890e587fcc152a44ade98185f61feaaacf140d9c80acf039018089ddd0203010001\n",
            "-----\n",
            "value: 200.0\n",
            "-----\n",
            "time: 2024-03-31 05:59:49.981057\n",
            "-----\n",
            "--------------\n"
          ]
        }
      ]
    },
    {
      "cell_type": "code",
      "source": [],
      "metadata": {
        "id": "Mnezmm8TF8th"
      },
      "execution_count": null,
      "outputs": []
    }
  ]
}