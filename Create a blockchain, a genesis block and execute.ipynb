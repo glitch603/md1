{
  "nbformat": 4,
  "nbformat_minor": 0,
  "metadata": {
    "colab": {
      "provenance": [],
      "authorship_tag": "ABX9TyPqKYY+qbvAiDPtKV7ihk0t",
      "include_colab_link": true
    },
    "kernelspec": {
      "name": "python3",
      "display_name": "Python 3"
    },
    "language_info": {
      "name": "python"
    }
  },
  "cells": [
    {
      "cell_type": "markdown",
      "metadata": {
        "id": "view-in-github",
        "colab_type": "text"
      },
      "source": [
        "<a href=\"https://colab.research.google.com/github/glitch603/md1/blob/main/Create%20a%20blockchain%2C%20a%20genesis%20block%20and%20execute.ipynb\" target=\"_parent\"><img src=\"https://colab.research.google.com/assets/colab-badge.svg\" alt=\"Open In Colab\"/></a>"
      ]
    },
    {
      "cell_type": "code",
      "execution_count": null,
      "metadata": {
        "colab": {
          "base_uri": "https://localhost:8080/"
        },
        "id": "dNIqTnyBGoPE",
        "outputId": "8a485e54-01dd-47a5-b80f-89b194159191"
      },
      "outputs": [
        {
          "output_type": "stream",
          "name": "stdout",
          "text": [
            "Collecting pycryptodome\n",
            "  Downloading pycryptodome-3.20.0-cp35-abi3-manylinux_2_17_x86_64.manylinux2014_x86_64.whl (2.1 MB)\n",
            "\u001b[2K     \u001b[90m━━━━━━━━━━━━━━━━━━━━━━━━━━━━━━━━━━━━━━━━\u001b[0m \u001b[32m2.1/2.1 MB\u001b[0m \u001b[31m12.1 MB/s\u001b[0m eta \u001b[36m0:00:00\u001b[0m\n",
            "\u001b[?25hInstalling collected packages: pycryptodome\n",
            "Successfully installed pycryptodome-3.20.0\n",
            "Number of blocks in the chain: 1\n",
            "block # 0\n",
            "sender: Genesis\n",
            "-----\n",
            "recipient: 30819f300d06092a864886f70d010101050003818d0030818902818100a12d83747621ce81abd3bcdaf161fa8f68e435bcb4ec6d60fdcdbe23b14fae29efe76fb813c15d69c0c4d523d141474d80578d10b0eb06106c2cf8f9035991db2e54f93b05dc495397798553c6003433fe32466cdd807fd90470af4861892975db98c6192b1ddd7b28e5933091447fdbc6bbefaa686bf23e003e604d610d464b0203010001\n",
            "-----\n",
            "value: 500.0\n",
            "-----\n",
            "time: 2024-03-31 06:04:26.346435\n",
            "-----\n",
            "--------------\n",
            "=====================================\n"
          ]
        }
      ],
      "source": [
        "!pip install pycryptodome\n",
        "import hashlib\n",
        "import binascii\n",
        "import datetime\n",
        "import collections\n",
        "\n",
        "from Crypto.PublicKey import RSA\n",
        "from Crypto import Random\n",
        "from Crypto.Cipher import PKCS1_v1_5\n",
        "from collections import OrderedDict\n",
        "import Crypto\n",
        "import Crypto.Random\n",
        "from Crypto.Hash import SHA\n",
        "from Crypto.Signature import PKCS1_v1_5\n",
        "\n",
        "class Client:\n",
        "    def __init__(self):\n",
        "      random = Random.new().read\n",
        "      self._private_key = RSA.generate(1024, random)\n",
        "      self._public_key = self._private_key.publickey()\n",
        "      self._signer = PKCS1_v1_5.new(self._private_key)\n",
        "    @property\n",
        "    def identity(self):\n",
        "      return binascii.hexlify(self._public_key.exportKey(format='DER')).decode('ascii')\n",
        "\n",
        "class Transaction:\n",
        "    def __init__(self, sender, recipient, value):\n",
        "       self.sender = sender\n",
        "       self.recipient = recipient\n",
        "       self.value = value\n",
        "       self.time = datetime.datetime.now()\n",
        "\n",
        "    def to_dict(self):\n",
        "       if self.sender == \"Genesis\":\n",
        "          identity = \"Genesis\"\n",
        "       else:\n",
        "          identity = self.sender.identity\n",
        "\n",
        "       return collections.OrderedDict({\n",
        "          'sender': identity,\n",
        "          'recipient': self.recipient,\n",
        "          'value': self.value,\n",
        "          'time' : self.time})\n",
        "\n",
        "    def sign_transaction(self):\n",
        "       private_key = self.sender._private_key\n",
        "       signer = PKCS1_v1_5.new(private_key)\n",
        "       h = SHA.new(str(self.to_dict()).encode('utf8'))\n",
        "       return binascii.hexlify(signer.sign(h)).decode('ascii')\n",
        "\n",
        "def display_transaction(transaction):\n",
        "       #for transaction in transactions:\n",
        "       dict = transaction.to_dict()\n",
        "       print (\"sender: \" + dict['sender'])\n",
        "       print ('-----')\n",
        "       print (\"recipient: \" + dict['recipient'])\n",
        "       print ('-----')\n",
        "       print (\"value: \" + str(dict['value']))\n",
        "       print ('-----')\n",
        "       print (\"time: \" + str(dict['time']))\n",
        "       print ('-----')\n",
        "\n",
        "def dump_blockchain (self):\n",
        "   print (\"Number of blocks in the chain: \" + str(len (self)))\n",
        "   for x in range (len(TPCoins)):\n",
        "      block_temp = TPCoins[x]\n",
        "      print (\"block # \" + str(x))\n",
        "      for transaction in block_temp.verified_transactions:\n",
        "         display_transaction (transaction)\n",
        "         print ('--------------')\n",
        "      print ('=====================================')\n",
        "\n",
        "class Block:\n",
        "   def __init__(self):\n",
        "      self.verified_transactions = []\n",
        "      self.previous_block_hash = \"\"\n",
        "      self.Nonce = \"\"\n",
        "\n",
        "Dinesh = Client()\n",
        "\n",
        "t0 = Transaction (\n",
        "   \"Genesis\",\n",
        "   Dinesh.identity,\n",
        "   500.0\n",
        ")\n",
        "\n",
        "block0 = Block()\n",
        "block0.previous_block_hash = None\n",
        "Nonce = None\n",
        "block0.verified_transactions.append (t0)\n",
        "digest = hash (block0)\n",
        "last_block_hash = digest\n",
        "\n",
        "TPCoins = []\n",
        "TPCoins.append (block0)\n",
        "\n",
        "dump_blockchain(TPCoins)\n"
      ]
    },
    {
      "cell_type": "code",
      "source": [],
      "metadata": {
        "id": "Oy2K_9ZjG3pX"
      },
      "execution_count": null,
      "outputs": []
    }
  ]
}